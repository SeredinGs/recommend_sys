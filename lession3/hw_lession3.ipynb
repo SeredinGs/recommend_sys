{
 "cells": [
  {
   "cell_type": "markdown",
   "metadata": {},
   "source": [
    "### Домашнее задание\n",
    "#### 1. В чем принципиальные отличия item-item рекомендаций от ALS?\n",
    "В основу item-item рекомендаций заложен алгоритм \"К-ближайших\", а в ALS - алгоритм Градиентного спуска"
   ]
  },
  {
   "cell_type": "markdown",
   "metadata": {},
   "source": [
    "#### 2. Приведите 3 примера весов user-item матрицы для задачи рекоммендаций товаров\n",
    "<ul>\n",
    "<li> Количество продаж купленного товара\n",
    "<li> Оценка товара\n",
    "<li> Выручка товара\n",
    "</ul>"
   ]
  },
  {
   "cell_type": "markdown",
   "metadata": {},
   "source": [
    "#### 3. Какие ограничения есть у ALS? (Тип информации, линейность/нелинейность факторов и т д)\n",
    "<ul>\n",
    "<li>Если модели ALS разрешено запоминать слишком много деталей исходной матрицы, она может не очень хорошо обобщать данные, на которых она не была обучена. Уменьшение количества факторов увеличивает обобщение модели.\n",
    "</ul>"
   ]
  }
 ],
 "metadata": {
  "kernelspec": {
   "display_name": "Python 3",
   "language": "python",
   "name": "python3"
  },
  "language_info": {
   "codemirror_mode": {
    "name": "ipython",
    "version": 3
   },
   "file_extension": ".py",
   "mimetype": "text/x-python",
   "name": "python",
   "nbconvert_exporter": "python",
   "pygments_lexer": "ipython3",
   "version": "3.7.4"
  }
 },
 "nbformat": 4,
 "nbformat_minor": 2
}
