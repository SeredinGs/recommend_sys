{
 "cells": [
  {
   "cell_type": "markdown",
   "metadata": {},
   "source": [
    "# Вебинар 8. Консультация"
   ]
  },
  {
   "cell_type": "markdown",
   "metadata": {},
   "source": [
    "---"
   ]
  },
  {
   "cell_type": "markdown",
   "metadata": {},
   "source": [
    "## 1. Recap по финальному проекту"
   ]
  },
  {
   "cell_type": "markdown",
   "metadata": {},
   "source": [
    "**Основное**\n",
    "- Дедлайн - 5 августа 23:59\n",
    "- Целевая метрика money precision@5\n",
    "- Есть бизнес-ограничения\n",
    "- Бейзлайн решения - [MainRecommender](https://github.com/geangohn/recsys-tutorial/blob/master/src/recommenders.py)\n",
    "- Сдаем ссылку на github с решением. На github должен быть ноутбук с решением + src + файл recommendations.csv (user_id | [rec_1, rec_2, ...] с рекомендациями. rec_i - реальные id item-ов (из retail_train.csv)\n",
    "\n",
    "**Hints:** \n",
    "\n",
    "Сначала просто попробуйте разные параметры MainRecommender:  \n",
    "- N в топ-N товарах при формировании user-item матирцы (сейчас топ-5000)  \n",
    "- Различные веса в user-item матрице (0/1, кол-во покупок, log(кол-во покупок + 1), сумма покупки, ...)  \n",
    "- Разные взвешивания матрицы (TF-IDF, BM25 - у него есть параметры)  \n",
    "- Разные смешивания рекомендаций (обратите внимание на бейзлайн - прошлые покупки юзера)  \n",
    "\n",
    "Сделайте MVP - минимально рабочий продукт - (пусть даже top-popular), а потом его улучшайте\n",
    "\n",
    "Если вы делаете двухуровневую модель - следите за валидацией "
   ]
  },
  {
   "cell_type": "markdown",
   "metadata": {},
   "source": [
    "---"
   ]
  },
  {
   "cell_type": "markdown",
   "metadata": {},
   "source": [
    "## 2. Ответы на вопросы"
   ]
  },
  {
   "cell_type": "markdown",
   "metadata": {},
   "source": [
    "Как делать кросс-валидацию?\n",
    "- [Статья](https://www.ethanrosenthal.com/2016/10/19/implicit-mf-part-1/)\n",
    "- Смотреть на метрику на отложенной выборке, меняя гиперпараметры\n",
    "\n",
    "Какие гиперпараметры оптимизировать у ALS:\n",
    "- Кол-во факторов \n",
    "- regularization / iterations\n",
    "\n",
    "Как считать цены для товаров (в т ч для money_precison@5):\n",
    "- Цена товара = среднее цен покупок этого товара по всем юзерам\n",
    "\n",
    "Новый пользователь:\n",
    "- рекомендовать топ-полярных / random weighted топ-полярных товаров\n",
    "- использовать гибридные рекомендательные системы"
   ]
  },
  {
   "cell_type": "markdown",
   "metadata": {},
   "source": [
    "## Ваши вопросы"
   ]
  },
  {
   "cell_type": "code",
   "execution_count": null,
   "metadata": {},
   "outputs": [],
   "source": [
    "# questions?"
   ]
  },
  {
   "cell_type": "markdown",
   "metadata": {},
   "source": [
    "---"
   ]
  },
  {
   "cell_type": "markdown",
   "metadata": {},
   "source": [
    "## 3. Разбор соревнования по рекомендациям топ-30 товаров X5 Retail Hero"
   ]
  },
  {
   "cell_type": "markdown",
   "metadata": {},
   "source": [
    "Постановка задачи + особенности данных + подход к решению из [презентации](https://vk.com/away.php?utf=1&to=https%3A%2F%2Fgithub.com%2Faprotopopov%2Fretailhero_recommender%2Fblob%2Fmaster%2Fslides%2Fretailhero_recommender.pdf) решения 1-ого места\n",
    "\n",
    "Бонус - [код](https://github.com/aprotopopov/retailhero_recommender) решения 1-ого места"
   ]
  },
  {
   "cell_type": "markdown",
   "metadata": {},
   "source": [
    "## Основные подходы участников из топ-15"
   ]
  },
  {
   "cell_type": "markdown",
   "metadata": {},
   "source": [
    "### Генерация кандидатов\n",
    "\n",
    "В основном генерировали k = {50, 100} кандидатов, чтобы модель 2-ого уровня отрабатывала за разумное время\n",
    "\n",
    "- Прошлые покупки юзера + топ-популярных, если покупок < k --> recall@100 ~ 42%\n",
    "- Из ALS, item2item моделей (implicit.nn.CosineRecommender)"
   ]
  },
  {
   "cell_type": "markdown",
   "metadata": {},
   "source": [
    "### Фичи в модели 2-ого уровня\n",
    "Коллаборативные:\n",
    "- biases + embeddings из коллаборативной фильтрации / Скоры item2item моделей\n",
    "- TF-IDF матирца item-ов c > N покупками\n",
    "- TF-IDF + TSNE/UMAP/ALS\n",
    "\n",
    "handcrafted фичи для товаров:\n",
    "- категории товаров\n",
    "- нормированная частота покупки товара для каждого клиента = кол-во покупок товар i / общеее кол-во покупок юзера\n",
    "- кол-во магазинов, в которых продавался товар\n",
    "- кол-во транзакций клиента\n",
    "- mean / max / std кол-ва уникальных товаров в корзине клиента \n",
    "- mean / max / std кол-ва уникальных категорий в корзине клиента \n",
    "\n",
    "handcrafted фичи для юзеров:\n",
    "- Средний чек\n",
    "- Средняя цена одного купленного товара\n",
    "- Среднее кол-во дней между покупками / с последней покупки    \n",
    "- Количество уникальных покупок (transaction_id, product_id) по всем категориям (store_id, level_i_id)\n",
    "- Признаки с накопленными бонусами\n",
    "- Средняя скидка, доля купленных товаров со скидками\n",
    "\n",
    "Интересные:\n",
    "- Факт заказа каждого товара в последних 5 транзакциях в виде последовательности бит (категориальная фича). \n",
    "10001 - купил товар в последней транзакции и 5 транзакий назад (feature hashing)\n",
    "- item co_ocurrence\n",
    "- als/word2vec эмбеддинги товаров (альтернативное название - item2vec, prod2vec)\n",
    "- Расстояние от als/word2vec эмбеддинга товара до среднего эмбедиингов товаров, купленных юзером"
   ]
  },
  {
   "cell_type": "code",
   "execution_count": null,
   "metadata": {},
   "outputs": [],
   "source": [
    "# Работа с эмбеддингами товаров на примере ALS вместо word2vec\n",
    "from implicit.als import AlternatingLeastSquares\n",
    "\n",
    "model = AlternatingLeastSquares()\n",
    "model.fit(...)\n",
    "\n",
    "model.item_factors  # Добавить как фичи в модель 2-ого уровня\n",
    "\n",
    "# Предположение: эмбеддинг юзера = среднее эмбеддингов купленниых им товаров\n",
    "# эмбеддинг товара - эмбеддинг юзера  # чем разница меньше, тем товар ближе к интересам пользователя"
   ]
  },
  {
   "cell_type": "markdown",
   "metadata": {},
   "source": [
    "### Модели 2-ого уровня\n",
    "- классификация через LightGBM\n",
    "- ранжирование CatBoost через YetiRank, YetiRankPairwise"
   ]
  }
 ],
 "metadata": {
  "kernelspec": {
   "display_name": "Python 3",
   "language": "python",
   "name": "python3"
  },
  "language_info": {
   "codemirror_mode": {
    "name": "ipython",
    "version": 3
   },
   "file_extension": ".py",
   "mimetype": "text/x-python",
   "name": "python",
   "nbconvert_exporter": "python",
   "pygments_lexer": "ipython3",
   "version": "3.7.4"
  }
 },
 "nbformat": 4,
 "nbformat_minor": 2
}
